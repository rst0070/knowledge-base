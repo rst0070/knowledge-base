{
 "cells": [
  {
   "cell_type": "code",
   "execution_count": 1,
   "metadata": {},
   "outputs": [],
   "source": [
    "from neo4j import AsyncGraphDatabase\n",
    "\n",
    "uri = \"neo4j://localhost:7687\"\n",
    "driver = AsyncGraphDatabase.driver(uri, auth=(\"neo4j\", \"thisispasswd\"))"
   ]
  },
  {
   "cell_type": "markdown",
   "metadata": {},
   "source": [
    "Merge query\n",
    "- ignore if exact same data exist\n",
    "    - e.g.\n",
    "        - ignore: (bin:Person {name: 'wonbin'}) vs (bin:Person {name: 'wonbin'})\n",
    "        - created new: (bin:Person {name: 'wonbin'}) vs (bin:Person {name: 'wonbin', desc: 'merge-test'})\n"
   ]
  },
  {
   "cell_type": "code",
   "execution_count": null,
   "metadata": {},
   "outputs": [],
   "source": [
    "cypher_query = \"\"\"\n",
    "MERGE (source:$source_type {data: $source_data})\n",
    "MERGE (target:$target_type {data: $target_data})\n",
    "MERGE (source)-[r:$edge_type]->(target)\n",
    "\"\"\"\n",
    "params = {\n",
    "    \"source_id\": \"1\",\n",
    "    \"source_data\": \"source_data\",\n",
    "    \"source_type\": \"source_type\",\n",
    "    \"target_id\": \"2\",\n",
    "    \"target_data\": \"target_data\",\n",
    "    \"target_type\": \"target_type\",\n",
    "    \"edge_type\": \"edge_type\",\n",
    "}\n",
    "await driver.execute_query(cypher_query, params)"
   ]
  },
  {
   "cell_type": "code",
   "execution_count": 10,
   "metadata": {},
   "outputs": [],
   "source": [
    "records, summary,keys = await driver.execute_query(\"MATCH (n) RETURN n\")"
   ]
  },
  {
   "cell_type": "code",
   "execution_count": 19,
   "metadata": {},
   "outputs": [
    {
     "name": "stdout",
     "output_type": "stream",
     "text": [
      "Keanu Reeves\n",
      "apple\n"
     ]
    }
   ],
   "source": [
    "for record in records:\n",
    "    print(record[\"n\"].get(\"data\"))\n"
   ]
  },
  {
   "cell_type": "code",
   "execution_count": 20,
   "metadata": {},
   "outputs": [
    {
     "data": {
      "text/plain": [
       "['n']"
      ]
     },
     "execution_count": 20,
     "metadata": {},
     "output_type": "execute_result"
    }
   ],
   "source": [
    "keys"
   ]
  }
 ],
 "metadata": {
  "kernelspec": {
   "display_name": "common",
   "language": "python",
   "name": "python3"
  },
  "language_info": {
   "codemirror_mode": {
    "name": "ipython",
    "version": 3
   },
   "file_extension": ".py",
   "mimetype": "text/x-python",
   "name": "python",
   "nbconvert_exporter": "python",
   "pygments_lexer": "ipython3",
   "version": "3.11.4"
  }
 },
 "nbformat": 4,
 "nbformat_minor": 2
}
